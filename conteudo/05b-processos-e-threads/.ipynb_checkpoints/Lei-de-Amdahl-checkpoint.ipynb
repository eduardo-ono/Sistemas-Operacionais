{
 "cells": [
  {
   "cell_type": "markdown",
   "id": "5497f943-b853-4ac9-92a5-489c2a7d8c01",
   "metadata": {},
   "source": [
    "#### Sistemas Operacionais > Conteúdo > Processos e Threads\n",
    "\n",
    "# Lei de Amdahl\n",
    "\n",
    "Prof. Eduardo Ono\n",
    "\n",
    "<br>"
   ]
  },
  {
   "cell_type": "markdown",
   "id": "f0e254ec-c975-41f3-a042-8d01f84cb0ca",
   "metadata": {},
   "source": [
    "A Lei de Amdahl"
   ]
  },
  {
   "cell_type": "markdown",
   "id": "b21d487a-bcf1-4349-a78c-1835e9ce64c1",
   "metadata": {},
   "source": [
    "$$speedup = \\frac{1}{1 - p + \\frac {p}{N}}$$"
   ]
  }
 ],
 "metadata": {
  "kernelspec": {
   "display_name": "Python 3",
   "language": "python",
   "name": "python3"
  },
  "language_info": {
   "codemirror_mode": {
    "name": "ipython",
    "version": 3
   },
   "file_extension": ".py",
   "mimetype": "text/x-python",
   "name": "python",
   "nbconvert_exporter": "python",
   "pygments_lexer": "ipython3",
   "version": "3.9.5"
  }
 },
 "nbformat": 4,
 "nbformat_minor": 5
}
