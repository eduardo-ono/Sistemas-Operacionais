{
 "cells": [
  {
   "cell_type": "markdown",
   "id": "38564345-69c5-44d2-8b10-116eca5d6d3c",
   "metadata": {},
   "source": [
    "> [Sistemas Operacionais](https://github.com/eduardo-ono/sistemas-operacionais) > Conteúdo > Escalonamento de Processos\n",
    "\n",
    "# Round-Robin (Turno Rotativo ou Circular)\n",
    "\n",
    "Prof. Eduardo Ono\n",
    "\n",
    "<br>"
   ]
  },
  {
   "cell_type": "markdown",
   "id": "2c522dd3-4241-4e86-be21-700b547f436b",
   "metadata": {},
   "source": [
    "## Referências\n",
    "\n",
    "* [[TANENBAUM-4e_2016]] Cap. 2, pp. 109-110.\n",
    "\n",
    "<br>\n",
    "\n",
    "## Exercícios Resolvidos\n",
    "\n",
    "<br>\n",
    "\n",
    "[TANENBAUM-4e_2016]: https://github.com/eduardo-ono/sistemas-operacionais/tree/master/referencias/README.md#TANENBAUM-4e_2016\n"
   ]
  },
  {
   "cell_type": "markdown",
   "id": "200053bb-a8c2-456e-88e3-9c4993e6018c",
   "metadata": {},
   "source": [
    "[[Daniel Silos, YouTube](https://www.youtube.com/watch?v=_iBmD3neoog) (adaptado)] O escalonamento de CPU trata do problema de decidir qual dos processos na fila de prontos deve ser entregue à CPU. Considere que o algoritmo de escalonamento de Round-Robin esteja sendo utilizado e que o conjunto de processos abaixo chegue no momento zero, com a extensão do tempo de _burst_ de CPU indicada em milissegundos. Dado: P1 é o primeiro processo na fila de prontos, P2 é o segundo, P3 é o terceiro e P4 é o quarto.\n",
    "\n",
    "| Processo | Tempo de Processamento (ms) |\n",
    "| :-: | :-: |\n",
    "| P1 | 15 |\n",
    "| P2 |  5 |\n",
    "| P3 |  6 |\n",
    "| P4 |  5 |\n",
    "\n",
    "Se for utilizado um quantum (_time-slice_) de 5 ms, o __tempo de espera médio__ será de:\n",
    "\n",
    "* a) [ ] 11\n",
    "* b) [ ] 12\n",
    "* c) [ ] 13\n",
    "* d) [x] 14\n",
    "* e) [ ] 15\n",
    "\n",
    "<br>"
   ]
  },
  {
   "cell_type": "markdown",
   "id": "590ffa53-880e-4edd-a665-98dc8565f75b",
   "metadata": {},
   "source": [
    "<hr>\n",
    "\n",
    "PASSOS PARA A RESOLUÇÃO:\n",
    "\n",
    "* Elaborar o Diagrama de Gantt\n",
    "* Cálcular o tempo de espera médio com base no Diagrama de Gantt\n",
    "\n",
    "<br>"
   ]
  },
  {
   "cell_type": "code",
   "execution_count": 1,
   "id": "4251ff06-2240-486e-a2fb-c13abe8cd403",
   "metadata": {
    "slideshow": {
     "slide_type": "slide"
    },
    "tags": []
   },
   "outputs": [
    {
     "name": "stdout",
     "output_type": "stream",
     "text": [
      "\n",
      "\n"
     ]
    },
    {
     "data": {
      "image/png": "[encoded data removed]",
      "text/plain": [
       "<Figure size 864x240 with 1 Axes>"
      ]
     },
     "metadata": {},
     "output_type": "display_data"
    }
   ],
   "source": [
    "# DIAGRAMA DE GANTT\n",
    "\n",
    "import matplotlib.pyplot as plt\n",
    "\n",
    "# Declaring a figure \"gnt\"\n",
    "fig, gnt = plt.subplots(figsize=(9, 2.5), dpi=96, facecolor=(1, 1, 1))\n",
    "fig.suptitle('Diagrama de Gantt', fontsize=16)\n",
    " \n",
    "gnt.set_ylabel('Processos')\n",
    "gnt.set_ylim(4.6, 0.4)\n",
    "gnt.set_yticks([0.5, 1, 2, 3, 4, 4.5])\n",
    "gnt.set_yticklabels(['', 'P1', 'P2', 'P3', 'P4', ''])\n",
    "\n",
    "gnt.set_xlabel('Tempo de execução (ms)\\n\\nObs.: Os processos em execução estão representados na cor laranja e os tempos de espera na cor cinza.')\n",
    "gnt.set_xlim(0, 31)\n",
    "gnt.set_xticks([0, 5, 10, 15, 20, 25, 26, 31])\n",
    "gnt.grid(axis='x')\n",
    "\n",
    "barHeight = 0.8\n",
    "\n",
    "print('\\n')\n",
    "# P1\n",
    "gnt.broken_barh([(0, 26)], (0.6, barHeight), facecolors =('tab:gray'))\n",
    "gnt.broken_barh([(0, 5), (20, 5), (26, 5)], (0.6, barHeight), facecolors =('tab:orange'))\n",
    "# P2\n",
    "gnt.broken_barh([(0, 10)], (1.6, barHeight), facecolors =('tab:gray'))\n",
    "gnt.broken_barh([(5, 5),], (1.6, barHeight), facecolors =('tab:orange'))\n",
    "# P3\n",
    "gnt.broken_barh([(0, 26)], (2.6, barHeight), facecolors =('tab:gray'))\n",
    "gnt.broken_barh([(10, 5), (25, 1)], (2.6, barHeight), facecolors =('tab:orange'))\n",
    "# P4\n",
    "gnt.broken_barh([(0, 20)], (3.6, barHeight), facecolors =('tab:gray'))\n",
    "gnt.broken_barh([(15, 5)], (3.6, barHeight), facecolors =('tab:orange'))\n",
    "\n",
    "plt.show()\n",
    "# plt.savefig(\"exercicio-round-robin.png\", dpi=150, bbox_inches='tight')"
   ]
  },
  {
   "cell_type": "code",
   "execution_count": 2,
   "id": "fc39c445-0dce-4b8f-8b5b-eaabb8744691",
   "metadata": {},
   "outputs": [
    {
     "name": "stdout",
     "output_type": "stream",
     "text": [
      "\n",
      "RESPOSTA:\n",
      "\n",
      "Tempo de espera médio =  14.0 ms\n"
     ]
    }
   ],
   "source": [
    "# CÁLCULO DO TEMPO DE ESPERA MÉDIO\n",
    "\n",
    "# Pelo diagrama de Gantt, podemos observar que o tempo de espera (wt - wait time) de um processo Pn (exibido na cor cinza no diagrama) é igual ao seu tempo total de execução subtraído do seu tempo de processamento.\n",
    "\n",
    "wtP1 = 31 - 15  # 16\n",
    "wtP2 = 10 - 5   # 5\n",
    "wtP3 = 26 - 6   # 20\n",
    "wtP4 = 20 - 5   # 15\n",
    "\n",
    "# O tempo de resposta médio (wtm) é igual a:\n",
    "wtm = (wtP1 + wtP2 + wtP3 + wtP4) / 4\n",
    "\n",
    "print('\\nRESPOSTA:\\n')\n",
    "print('Tempo de espera médio = ', wtm, 'ms')"
   ]
  }
 ],
 "metadata": {
  "kernelspec": {
   "display_name": "Python 3",
   "language": "python",
   "name": "python3"
  },
  "language_info": {
   "codemirror_mode": {
    "name": "ipython",
    "version": 3
   },
   "file_extension": ".py",
   "mimetype": "text/x-python",
   "name": "python",
   "nbconvert_exporter": "python",
   "pygments_lexer": "ipython3",
   "version": "3.9.5"
  },
  "toc-autonumbering": false,
  "toc-showcode": true,
  "toc-showmarkdowntxt": false,
  "toc-showtags": true
 },
 "nbformat": 4,
 "nbformat_minor": 5
}
