{
 "cells": [
  {
   "cell_type": "markdown",
   "id": "f0571a9e-b1fc-4d18-baa8-1e8d99eb6f75",
   "metadata": {
    "tags": []
   },
   "source": [
    "```{sidebar} My sidebar title\n",
    "My sidebar content\n",
    "```"
   ]
  },
  {
   "cell_type": "code",
   "execution_count": 1,
   "id": "4251ff06-2240-486e-a2fb-c13abe8cd403",
   "metadata": {
    "tags": [
     "to_remove"
    ]
   },
   "outputs": [
    {
     "data": {
      "image/png": "[encoded data removed]",
      "text/plain": [
       "<Figure size 864x288 with 1 Axes>"
      ]
     },
     "metadata": {
      "needs_background": "light"
     },
     "output_type": "display_data"
    }
   ],
   "source": [
    "import matplotlib.pyplot as plt\n",
    "\n",
    "# Declaring a figure \"gnt\"\n",
    "fig, gnt = plt.subplots(figsize=(9, 3), dpi=96)\n",
    " \n",
    "gnt.set_ylim(4.5, 0.5)\n",
    "gnt.set_yticks([0.5, 1, 2, 3, 4, 4.5])\n",
    "gnt.set_yticklabels(['', 'P1', 'P2', 'P3', 'P4', ''])\n",
    "gnt.set_ylabel('Processos')\n",
    " \n",
    "\n",
    "gnt.set_xlim(0, 31)\n",
    "gnt.set_xticks([0, 5, 10, 15, 20, 25, 26, 31])\n",
    "gnt.set_xlabel('Tempo de execução')\n",
    "gnt.grid(axis='x')\n",
    "\n",
    "height = 0.8\n",
    "# P1\n",
    "gnt.broken_barh([(0, 31)], (0.6, height), facecolors =('tab:gray'))\n",
    "gnt.broken_barh([(0, 5), (20, 5), (26, 5)], (0.6, height), facecolors =('tab:orange'))\n",
    "# P2\n",
    "gnt.broken_barh([(0, 31)], (1.6, height), facecolors =('tab:gray'))\n",
    "gnt.broken_barh([(5, 5),], (1.6, height), facecolors =('tab:orange'))\n",
    "# P3\n",
    "gnt.broken_barh([(0, 31)], (2.6, height), facecolors =('tab:gray'))\n",
    "gnt.broken_barh([(10, 5), (25, 1)], (2.6, height), facecolors =('tab:orange'))\n",
    "# P4\n",
    "gnt.broken_barh([(0, 31)], (3.6, height), facecolors =('tab:gray'))\n",
    "gnt.broken_barh([(15, 5)], (3.6, height), facecolors =('tab:orange'))\n",
    " \n",
    "plt.savefig(\"exercicio-round-robin.png\")"
   ]
  }
 ],
 "metadata": {
  "kernelspec": {
   "display_name": "Python 3",
   "language": "python",
   "name": "python3"
  },
  "language_info": {
   "codemirror_mode": {
    "name": "ipython",
    "version": 3
   },
   "file_extension": ".py",
   "mimetype": "text/x-python",
   "name": "python",
   "nbconvert_exporter": "python",
   "pygments_lexer": "ipython3",
   "version": "3.9.5"
  },
  "toc-autonumbering": true,
  "toc-showcode": true,
  "toc-showmarkdowntxt": true,
  "toc-showtags": true
 },
 "nbformat": 4,
 "nbformat_minor": 5
}
