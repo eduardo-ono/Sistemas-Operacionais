{
 "cells": [
  {
   "cell_type": "markdown",
   "metadata": {},
   "source": [
    "> Sistemas Operacionais > Listas de Exercícios\n",
    "\n",
    "<h1 align=\"center\">Lista 5 - Threads<h1>\n",
    "\n",
    "<h4 align=\"center\">Prof. Eduardo Ono<h4>\n",
    "\n",
    "&nbsp;"
   ]
  },
  {
   "cell_type": "markdown",
   "metadata": {},
   "source": [
    "### Exercício 1.\n",
    "\n",
    "&nbsp;&nbsp;&nbsp;&nbsp;&nbsp;&nbsp;&nbsp;&nbsp; Escreva uma função no padrão POSIX para threads que receba, através de seu parâmetro, um vetor contendo dois valores inteiros $a$ e $b$, onde $a < b$. A função deverá determinar e imprimir a soma de todos os inteiros entre $a$ (inclusive) e $b$ (inclusive), a média aritmética e o desvio padrão desses valores.\n",
    "\n",
    "* Protótipo da função no padrão POSIX para threads:\n",
    "\n",
    "    ```c\n",
    "    void *f(void *p);\n",
    "    ```\n",
    "\n",
    "&nbsp;"
   ]
  },
  {
   "cell_type": "markdown",
   "metadata": {},
   "source": [
    "### Exercício 2.\n",
    "\n",
    "$\\qquad$ Implemente quatro threads para a função do Exercício 1, de tal modo a calcular, de forma concorrente, a soma, a média aritmética e o desvio padrão dos inteiros nos seguintes intervalos (fechados):\n",
    "\n",
    "* 1 e 1.000.000\n",
    "* 5000 e 10.000.000\n",
    "* 1.000.000 e 10.000.000\n",
    "* 1.000.000.000 e 2.000.000.000\n",
    "\n",
    "Obs.: A soma, a média e o desvio padrão deverão ser valores reais de dupla precisão (tipo `double`).\n",
    "\n",
    "&nbsp;"
   ]
  }
 ],
 "metadata": {
  "kernelspec": {
   "display_name": "Python 3.9.13 ('base')",
   "language": "python",
   "name": "python3"
  },
  "language_info": {
   "codemirror_mode": {
    "name": "ipython",
    "version": 3
   },
   "file_extension": ".py",
   "mimetype": "text/x-python",
   "name": "python",
   "nbconvert_exporter": "python",
   "pygments_lexer": "ipython3",
   "version": "3.9.13"
  },
  "orig_nbformat": 4,
  "vscode": {
   "interpreter": {
    "hash": "6ca436f98112c699fca53176ca9b2af64a577e7d8248f3b63a91e306eedca64e"
   }
  }
 },
 "nbformat": 4,
 "nbformat_minor": 2
}
