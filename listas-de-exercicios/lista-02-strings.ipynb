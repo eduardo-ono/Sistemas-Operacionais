{
 "cells": [
  {
   "cell_type": "markdown",
   "metadata": {},
   "source": [
    "> Sistemas Operacionais > Listas de Exercícios\n",
    "\n",
    "<h1 align=\"center\">Lista 2 - Strings</h1>\n",
    "<h4 align=\"center\">Prof. Eduardo Ono</h4>\n",
    "\n",
    "&nbsp;"
   ]
  },
  {
   "cell_type": "markdown",
   "metadata": {},
   "source": [
    "### Exercício 1.\n",
    "\n",
    "$\\qquad$ Escreva uma função que receba uma _string_ e retorne o número de caracteres da _string_.<br>\n",
    "$\\qquad$ Obs.: Não utilize a função `strlen()`.\n",
    "\n",
    "* Exemplos:\n",
    "\n",
    "| Argumento | Retorno |\n",
    "| --- | --- |\n",
    "| \"\" | 0\n",
    "| \"caju\" | 4\n",
    "| \"maçã\" | 4\n",
    "| \"micro-ondas\" | 11\n",
    "| \"banana terra\" | 12\n",
    "| \"marca d'água\" | 12\n",
    "\n",
    "&nbsp;"
   ]
  },
  {
   "cell_type": "markdown",
   "metadata": {},
   "source": [
    "### Exercício 2.\n",
    "\n",
    "$\\qquad$ Escreva um programa que peça para o usuário entrar com uma _string_ qualquer, limitada à 500 caracteres. O programa deverá determinar a quantidade de letras presentes na _string_.<br>\n",
    "$\\qquad$ Obs.: O espaço e os sinais de pontuação como a vírgula e o ponto final não são considerados letras.\n",
    "\n",
    "&nbsp;"
   ]
  },
  {
   "cell_type": "markdown",
   "metadata": {},
   "source": [
    "### Exercício 3.\n",
    "\n",
    "$\\qquad$ Escreva uma função que receba duas _strings_: uma \"origem\" e outra \"destino\". A _string_ destino deverá ser uma cópia da _string_ origem, porém, com todas as suas letras convertidas para maiúsculas.<br>\n",
    "$\\qquad$ Obs.: Desconsidere a acentuação e os caracteres especiais.\n",
    "\n",
    "&nbsp;"
   ]
  },
  {
   "cell_type": "markdown",
   "metadata": {},
   "source": [
    "### Exercício 4.\n",
    "\n",
    "$\\qquad$ [DEITEL-6e_2011p206, adaptado] Escreva uma função que verifica se uma palavra (ou frase) é um _palíndromo_, ou seja, uma palavra que pode ser lida, indiferentemente, da esquerda para a direita ou vice-versa.<br>\n",
    "$\\qquad$ Obs.: Desconsidere diferenças entre letras maiúsculas e minúsculas.\n",
    "\n",
    "* Exemplos\n",
    "\n",
    "| Argumento | Retorno |\n",
    "| --- | --- |\n",
    "| \"arara\" | true\n",
    "| \"Arara\" | true\n",
    "| \"banana\" | false\n",
    "| \"Roma é amor\" | true\n",
    "\n",
    "&nbsp;"
   ]
  }
 ],
 "metadata": {
  "kernelspec": {
   "display_name": "Python 3.9.13 ('base')",
   "language": "python",
   "name": "python3"
  },
  "language_info": {
   "name": "python",
   "version": "3.9.13"
  },
  "orig_nbformat": 4,
  "vscode": {
   "interpreter": {
    "hash": "6ca436f98112c699fca53176ca9b2af64a577e7d8248f3b63a91e306eedca64e"
   }
  }
 },
 "nbformat": 4,
 "nbformat_minor": 2
}
