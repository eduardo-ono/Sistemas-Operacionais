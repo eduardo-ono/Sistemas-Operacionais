{
 "cells": [
  {
   "cell_type": "markdown",
   "metadata": {},
   "source": [
    "> Sistemas Operacionais > Listas de Exercícios\n",
    "\n",
    "<h1 align=\"center\"> Lista 1 - Vetores</h1>\n",
    "\n",
    "<h4 align=\"center\"> Prof. Eduardo Ono</h4>\n",
    "\n",
    "&nbsp;"
   ]
  },
  {
   "cell_type": "markdown",
   "metadata": {},
   "source": [
    "### Exercício 1.\n",
    "\n",
    "$\\qquad$ Escreva um programa que popule um vetor de inteiros com os 10.000 primeiros números primos. O programa deverá imprimir apenas os 5 primeiros e os cinco últimos primos armazenados no vetor.\n",
    "\n",
    "* Exemplo\n",
    "\n",
    "| Entrada | Saída |\n",
    "| --- | :-: |\n",
    "| | 2, 3, 5, 7, 11, ... , 104707, 104711, 104717, 104723, 104729\n",
    "\n",
    "&nbsp;"
   ]
  },
  {
   "cell_type": "markdown",
   "metadata": {},
   "source": [
    "### Exercício 2.\n",
    "\n",
    "$\\qquad$ [DEITEL-6e_2011p200, adaptado] __*Eliminação de duplicatas.*__ Escreva um programa que peça ao usuário para entrar com 20 números inteiros, cada um entre 10 e 100, inclusive. À medida que cada número for lido, imprima-o apenas se ele não for uma duplicata (repetição) de um número já lido. Considere a \"pior das hipóteses\": os 20 números são diferentes. Use o menor _array_ possível para resolver esse problema.\n",
    "\n",
    "&nbsp;"
   ]
  },
  {
   "cell_type": "markdown",
   "metadata": {},
   "source": [
    "### Exercício 3.\n",
    "\n",
    "$\\qquad$ Escreva um programa que peça ao usuário para entrar com a altura, em metros, de $N = 20$ pessoas, utilizando um vetor para armazenar todas as alturas. O programa deverá calcular a média $\\mu$ e desvio padrão $DP$ das alturas.\n",
    "\n",
    "$$\n",
    "\\mu = \\frac{1}{N} \\sum_{i=1}^N x_i = \\frac{x_1 + x_2 + ... + x_N}{N} \\\\\n",
    "$$\n",
    "\n",
    "$$\n",
    "DP = \\sqrt{\\frac{1}{N} \\sum_{i=1}^N (x_i - \\mu)^2}\n",
    "$$\n",
    "\n",
    "&nbsp;"
   ]
  },
  {
   "cell_type": "markdown",
   "metadata": {},
   "source": [
    "### Exercício 4.\n",
    "\n",
    "$\\qquad$ __*Números palíndromos.*__ Os números __*palíndromos*__, também chamados de _capicuas_, aparecem naturalmente na sequência dos números naturais. São números que podem ser lidos em ordem inversa e continuam tendo o mesmo valor. Por exemplo, 5, 11, 101, 2772 são números palíndromos.<br>$\\qquad$ Escreva uma função que popule um vetor com os 500 primeiros números palíndromos. Em seguida, o programa deverá imprimir a sequência de todos os elementos do vetor, separados por vírgula (mas sem vírgula após o último número).\n",
    "\n",
    "* Exemplo\n",
    "\n",
    "| Entrada | Saída |\n",
    "| --- | --- |\n",
    "| | 0, 1, 2, 3, 4, 5, 6, 7, 8, 9, 11, 22, 33, 44, 55, 66, 77, 88, 99, 101, 111, 121, 131, 141, 151, 161, 171, 181, 191, 202, 212, ...\n",
    "\n",
    "&nbsp;"
   ]
  },
  {
   "cell_type": "markdown",
   "metadata": {},
   "source": [
    "### Exercício 5.\n",
    "\n",
    "$\\qquad$ A __*mediana*__ de um conjunto ordenando de valores é o valor intermediário (ou valor central). Caso o número de elementos seja par, a mediana é dada pela média dos dois elementos centrais.<br>\n",
    "$\\qquad$ A __*moda*__ de um conjunto de valores é o valor que ocorre com mais frequência.<br>\n",
    "\n",
    "$\\qquad$ Escreva funções independentes para retornar a média, a mediana e a moda de sequências ordenadas de valores inteiros.\n",
    "\n",
    "* Exemplo para a função \"média\"\n",
    "\n",
    "| Argumento(s) | Retorno |\n",
    "| --- | --- |\n",
    "| {2, 3, 3, 5, 10, 12, 12, 15, 20, 25, 28, 30, 30, 30, 37, 41, 56, 78, 78, 80} | 29.75\n",
    "\n",
    "* Exemplo para a função \"mediana\"\n",
    "\n",
    "| Argumento(s) | Retorno |\n",
    "| --- | --- |\n",
    "| {2, 3, 3, 5, 10, 12, 12, 15, 20, 25, 28, 30, 30, 30, 37, 41, 56, 78, 78, 80} | 26.5\n",
    "\n",
    "* Exemplo para a função \"moda\"\n",
    "\n",
    "| Argumento(s) | Retorno |\n",
    "| --- | --- |\n",
    "| {2, 3, 3, 5, 10, 12, 12, 15, 20, 25, 28, 30, 30, 30, 37, 41, 56, 78, 78, 80} | 30\n",
    "\n",
    "&nbsp;"
   ]
  }
 ],
 "metadata": {
  "kernelspec": {
   "display_name": "Python 3.9.13 ('base')",
   "language": "python",
   "name": "python3"
  },
  "language_info": {
   "codemirror_mode": {
    "name": "ipython",
    "version": 3
   },
   "file_extension": ".py",
   "mimetype": "text/x-python",
   "name": "python",
   "nbconvert_exporter": "python",
   "pygments_lexer": "ipython3",
   "version": "3.9.13"
  },
  "orig_nbformat": 4,
  "vscode": {
   "interpreter": {
    "hash": "6ca436f98112c699fca53176ca9b2af64a577e7d8248f3b63a91e306eedca64e"
   }
  }
 },
 "nbformat": 4,
 "nbformat_minor": 2
}
