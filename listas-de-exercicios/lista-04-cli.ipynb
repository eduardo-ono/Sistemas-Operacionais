{
 "cells": [
  {
   "cell_type": "code",
   "execution_count": null,
   "metadata": {},
   "outputs": [],
   "source": []
  },
  {
   "cell_type": "markdown",
   "metadata": {},
   "source": [
    "### Exercício 1.\n",
    "\n",
    "$\\qquad$ (Ex-questão da 1ª Avaliação). Escreva um programa que receba como argumento pela linha de comando o nome de um arquivo de texto. Caso o nome do arquivo não seja passado, o programa deverá pedir ao usuário para que entre com o nome. O programa deverá calcular a quantidade de caracteres do texto do arquivo.\n",
    "\n",
    "&nbsp;"
   ]
  },
  {
   "cell_type": "markdown",
   "metadata": {},
   "source": [
    "### Exercício 2.\n",
    "\n",
    "$\\qquad$ Escreva um programa que receba uma quantidade qualquer de números reais \n",
    "passados pela linha de comando. O programa deverá calcular a média $\\mu$ e o desvio padrão $DP$ desses números.\n",
    "\n",
    "$$\n",
    "\\mu = \\frac{1}{N} \\sum_{i=1}^N x_i = \\frac{x_1 + x_2 + ... + x_N}{N} \\\\\n",
    "\\quad \\\\\n",
    "DP = \\sqrt{\\frac{1}{N} \\sum_{i=1}^N (x_i - \\mu)^2}\n",
    "$$\n",
    "\n",
    "&nbsp;"
   ]
  }
 ],
 "metadata": {
  "kernelspec": {
   "display_name": "Python 3.9.13 ('base')",
   "language": "python",
   "name": "python3"
  },
  "language_info": {
   "name": "python",
   "version": "3.9.13"
  },
  "orig_nbformat": 4,
  "vscode": {
   "interpreter": {
    "hash": "6ca436f98112c699fca53176ca9b2af64a577e7d8248f3b63a91e306eedca64e"
   }
  }
 },
 "nbformat": 4,
 "nbformat_minor": 2
}
