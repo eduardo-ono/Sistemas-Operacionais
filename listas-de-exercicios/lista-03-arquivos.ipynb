{
 "cells": [
  {
   "cell_type": "markdown",
   "metadata": {},
   "source": [
    "> Sistemas Operacionais > Listas de Exercícios\n",
    "\n",
    "<h1 align=\"center\">Lista 3 - Manipulação de Arquivos</h1>\n",
    "\n",
    "<h4 align=\"center\">Prof. Eduardo Ono</h4>\n",
    "\n",
    "&nbsp;"
   ]
  },
  {
   "cell_type": "markdown",
   "metadata": {},
   "source": [
    "### Exercício 1.\n",
    "\n",
    "$\\qquad$ Escreva um programa que leia o conteúdo um arquivo de texto e imprima apenas as palavras começadas pelas letras 'a' ou 'A'.\n",
    "\n",
    "&nbsp;"
   ]
  },
  {
   "cell_type": "markdown",
   "metadata": {},
   "source": [
    "### Exercício 2.\n",
    "\n",
    "$\\qquad$ Um arquivo CSV (_comma-separated values_) é um arquivo de texto que possui um padrão específico de formatação através de uma tabela estruturada na qual a separação das informações é dada por vírgula (_comma_). Suponha a existência de um arquivo de texto do tipo CSV contendo os nomes, pesos (em kg) e alturas (em metros) de várias pessoas, conforme o exemplo aseguir:\n",
    "\n",
    "```\n",
    "\"Fulano de Tal\",79,1.72\n",
    "\"Ciclano de Tal\",98,1.81\n",
    "\"Beltrano de Tal\",77,1.73\n",
    "```\n",
    "\n",
    "$\\qquad$ Escreva um programa que faça a leitura dos registros do arquivo e calcule e exiba o IMC (Índice de Massa Corporal) de cada pessoa. O IMC é dado por:\n",
    "\n",
    "$$\n",
    "IMC = \\frac{peso}{altura^2} \n",
    "$$"
   ]
  },
  {
   "cell_type": "markdown",
   "metadata": {},
   "source": [
    "### Exercício 3.\n",
    "\n",
    "$\\qquad$ Escreva um programa para criar um arquivo de texto com as informações do exercício anterior."
   ]
  }
 ],
 "metadata": {
  "kernelspec": {
   "display_name": "Python 3.9.13 ('base')",
   "language": "python",
   "name": "python3"
  },
  "language_info": {
   "codemirror_mode": {
    "name": "ipython",
    "version": 3
   },
   "file_extension": ".py",
   "mimetype": "text/x-python",
   "name": "python",
   "nbconvert_exporter": "python",
   "pygments_lexer": "ipython3",
   "version": "3.9.13"
  },
  "orig_nbformat": 4,
  "vscode": {
   "interpreter": {
    "hash": "6ca436f98112c699fca53176ca9b2af64a577e7d8248f3b63a91e306eedca64e"
   }
  }
 },
 "nbformat": 4,
 "nbformat_minor": 2
}
